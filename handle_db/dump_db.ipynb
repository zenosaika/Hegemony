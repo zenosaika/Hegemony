{
 "cells": [
  {
   "cell_type": "code",
   "execution_count": 2,
   "metadata": {},
   "outputs": [],
   "source": [
    "import pymysql\n",
    "import pandas as pd"
   ]
  },
  {
   "cell_type": "code",
   "execution_count": null,
   "metadata": {},
   "outputs": [],
   "source": [
    "connection = pymysql.connect(\n",
    "                user = 'test',\n",
    "                password = 'test',\n",
    "                database= 'datathon2024_sample',\n",
    "                host = 'galera1-mariadb-galera.galera1.svc.cluster.local',\n",
    "                port = 3306\n",
    "            )"
   ]
  },
  {
   "cell_type": "code",
   "execution_count": 17,
   "metadata": {},
   "outputs": [],
   "source": [
    "table_df = pd.read_csv('table_name.csv')\n",
    "column_df = pd.read_csv('column_name.csv')\n",
    "\n",
    "db_schema = {\n",
    "        table_name : column_df.loc[column_df['table_name']==table_name]['column_name']\n",
    "        for table_name in table_df['table_name'].unique()\n",
    "    }\n"
   ]
  },
  {
   "cell_type": "code",
   "execution_count": 19,
   "metadata": {},
   "outputs": [
    {
     "data": {
      "text/plain": [
       "0    patient_id\n",
       "1      admit_id\n",
       "2          ward\n",
       "3        ordate\n",
       "4     type_oper\n",
       "5         cname\n",
       "6      date_set\n",
       "7      time_set\n",
       "Name: column_name, dtype: object"
      ]
     },
     "execution_count": 19,
     "metadata": {},
     "output_type": "execute_result"
    }
   ],
   "source": [
    "# List column name of the table\n",
    "db_schema['anes_complication']"
   ]
  },
  {
   "cell_type": "code",
   "execution_count": null,
   "metadata": {},
   "outputs": [],
   "source": [
    "# Dump each table to csv file\n",
    "for table_name, column_name in db_schema.items():\n",
    "    df = pd.read_sql(f'SELECT * FROM {table_name}', connection)\n",
    "    df.to_csv(f'db_outputs/{table_name}.csv', sep=',', index=False, encoding='utf-8')"
   ]
  }
 ],
 "metadata": {
  "kernelspec": {
   "display_name": "venv",
   "language": "python",
   "name": "python3"
  },
  "language_info": {
   "codemirror_mode": {
    "name": "ipython",
    "version": 3
   },
   "file_extension": ".py",
   "mimetype": "text/x-python",
   "name": "python",
   "nbconvert_exporter": "python",
   "pygments_lexer": "ipython3",
   "version": "3.9.12"
  },
  "orig_nbformat": 4
 },
 "nbformat": 4,
 "nbformat_minor": 2
}
